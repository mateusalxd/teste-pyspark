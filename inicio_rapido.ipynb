{
 "cells": [
  {
   "cell_type": "markdown",
   "id": "07622e72",
   "metadata": {},
   "source": [
    "# Inicialização"
   ]
  },
  {
   "cell_type": "code",
   "execution_count": 1,
   "id": "d999ba47",
   "metadata": {},
   "outputs": [],
   "source": [
    "import os\n",
    "import requests\n",
    "import zipfile\n",
    "\n",
    "url = 'https://files.grouplens.org/datasets/movielens/ml-latest-small.zip'\n",
    "arquivo_existe = os.path.exists('./dados/ml-latest-small.zip')\n",
    "\n",
    "if not arquivo_existe:\n",
    "    with requests.get(url, allow_redirects=True, verify=False) as resp:\n",
    "\n",
    "        with open('dados/ml-latest-small.zip', 'wb') as arquivo:\n",
    "            for chunk in resp.iter_content(chunk_size=128):\n",
    "                arquivo.write(chunk)\n",
    "\n",
    "        with zipfile.ZipFile('dados/ml-latest-small.zip') as arquivo_zip:\n",
    "            arquivo_zip.extractall('dados')\n",
    "\n",
    "    print(\"Download concluído\")"
   ]
  },
  {
   "cell_type": "code",
   "execution_count": 2,
   "id": "ef0da3a9",
   "metadata": {},
   "outputs": [],
   "source": [
    "from pyspark.sql import SparkSession\n",
    "import pandas as pd\n",
    "from pyspark.sql import Row\n",
    "\n",
    "spark = SparkSession.builder.getOrCreate()\n",
    "\n",
    "DIRETORIO='dados/ml-latest-small/'"
   ]
  },
  {
   "cell_type": "markdown",
   "id": "e471369b",
   "metadata": {},
   "source": [
    "# Criando um DataFrame"
   ]
  },
  {
   "cell_type": "markdown",
   "id": "49287c8b",
   "metadata": {},
   "source": [
    "## Usando um DataFrame do pandas"
   ]
  },
  {
   "cell_type": "code",
   "execution_count": 3,
   "id": "e49b2d2a",
   "metadata": {},
   "outputs": [
    {
     "data": {
      "text/html": [
       "<div>\n",
       "<style scoped>\n",
       "    .dataframe tbody tr th:only-of-type {\n",
       "        vertical-align: middle;\n",
       "    }\n",
       "\n",
       "    .dataframe tbody tr th {\n",
       "        vertical-align: top;\n",
       "    }\n",
       "\n",
       "    .dataframe thead th {\n",
       "        text-align: right;\n",
       "    }\n",
       "</style>\n",
       "<table border=\"1\" class=\"dataframe\">\n",
       "  <thead>\n",
       "    <tr style=\"text-align: right;\">\n",
       "      <th></th>\n",
       "      <th>movieId</th>\n",
       "      <th>title</th>\n",
       "      <th>genres</th>\n",
       "    </tr>\n",
       "  </thead>\n",
       "  <tbody>\n",
       "    <tr>\n",
       "      <th>0</th>\n",
       "      <td>1</td>\n",
       "      <td>Toy Story (1995)</td>\n",
       "      <td>Adventure|Animation|Children|Comedy|Fantasy</td>\n",
       "    </tr>\n",
       "    <tr>\n",
       "      <th>1</th>\n",
       "      <td>2</td>\n",
       "      <td>Jumanji (1995)</td>\n",
       "      <td>Adventure|Children|Fantasy</td>\n",
       "    </tr>\n",
       "    <tr>\n",
       "      <th>2</th>\n",
       "      <td>3</td>\n",
       "      <td>Grumpier Old Men (1995)</td>\n",
       "      <td>Comedy|Romance</td>\n",
       "    </tr>\n",
       "    <tr>\n",
       "      <th>3</th>\n",
       "      <td>4</td>\n",
       "      <td>Waiting to Exhale (1995)</td>\n",
       "      <td>Comedy|Drama|Romance</td>\n",
       "    </tr>\n",
       "    <tr>\n",
       "      <th>4</th>\n",
       "      <td>5</td>\n",
       "      <td>Father of the Bride Part II (1995)</td>\n",
       "      <td>Comedy</td>\n",
       "    </tr>\n",
       "  </tbody>\n",
       "</table>\n",
       "</div>"
      ],
      "text/plain": [
       "   movieId                               title  \\\n",
       "0        1                    Toy Story (1995)   \n",
       "1        2                      Jumanji (1995)   \n",
       "2        3             Grumpier Old Men (1995)   \n",
       "3        4            Waiting to Exhale (1995)   \n",
       "4        5  Father of the Bride Part II (1995)   \n",
       "\n",
       "                                        genres  \n",
       "0  Adventure|Animation|Children|Comedy|Fantasy  \n",
       "1                   Adventure|Children|Fantasy  \n",
       "2                               Comedy|Romance  \n",
       "3                         Comedy|Drama|Romance  \n",
       "4                                       Comedy  "
      ]
     },
     "execution_count": 3,
     "metadata": {},
     "output_type": "execute_result"
    }
   ],
   "source": [
    "dados = pd.read_csv(DIRETORIO + 'movies.csv')\n",
    "dados.head()"
   ]
  },
  {
   "cell_type": "code",
   "execution_count": 4,
   "id": "7759e6a5",
   "metadata": {},
   "outputs": [
    {
     "data": {
      "text/plain": [
       "[Row(movieId=1, title='Toy Story (1995)', genres='Adventure|Animation|Children|Comedy|Fantasy'),\n",
       " Row(movieId=2, title='Jumanji (1995)', genres='Adventure|Children|Fantasy'),\n",
       " Row(movieId=3, title='Grumpier Old Men (1995)', genres='Comedy|Romance'),\n",
       " Row(movieId=4, title='Waiting to Exhale (1995)', genres='Comedy|Drama|Romance'),\n",
       " Row(movieId=5, title='Father of the Bride Part II (1995)', genres='Comedy')]"
      ]
     },
     "execution_count": 4,
     "metadata": {},
     "output_type": "execute_result"
    }
   ],
   "source": [
    "df = spark.createDataFrame(dados)\n",
    "df.head(5)"
   ]
  },
  {
   "cell_type": "markdown",
   "id": "b745d533",
   "metadata": {},
   "source": [
    "## Usando uma lista de rows"
   ]
  },
  {
   "cell_type": "code",
   "execution_count": 5,
   "id": "b387a75d",
   "metadata": {},
   "outputs": [],
   "source": [
    "from pyspark.sql import Row"
   ]
  },
  {
   "cell_type": "code",
   "execution_count": 6,
   "id": "5efec251",
   "metadata": {},
   "outputs": [],
   "source": [
    "df_teste = spark.createDataFrame([\n",
    "    Row(movieId=1, title='Toy Story (1995)', genres='Adventure|Animation|Children|Comedy|Fantasy'),\n",
    "    Row(movieId=2, title='Jumanji (1995)', genres='Adventure|Children|Fantasy'),\n",
    "    Row(movieId=3, title='Grumpier Old Men (1995)', genres='Comedy|Romance'),\n",
    "    Row(movieId=4, title='Waiting to Exhale (1995)', genres='Comedy|Drama|Romance'),\n",
    "    Row(movieId=5, title='Father of the Bride Part II (1995)', genres='Comedy')\n",
    "])"
   ]
  },
  {
   "cell_type": "code",
   "execution_count": 7,
   "id": "10fe2664",
   "metadata": {},
   "outputs": [
    {
     "data": {
      "text/plain": [
       "[Row(movieId=1, title='Toy Story (1995)', genres='Adventure|Animation|Children|Comedy|Fantasy'),\n",
       " Row(movieId=2, title='Jumanji (1995)', genres='Adventure|Children|Fantasy'),\n",
       " Row(movieId=3, title='Grumpier Old Men (1995)', genres='Comedy|Romance'),\n",
       " Row(movieId=4, title='Waiting to Exhale (1995)', genres='Comedy|Drama|Romance'),\n",
       " Row(movieId=5, title='Father of the Bride Part II (1995)', genres='Comedy')]"
      ]
     },
     "execution_count": 7,
     "metadata": {},
     "output_type": "execute_result"
    }
   ],
   "source": [
    "df_teste.head(5)"
   ]
  },
  {
   "cell_type": "markdown",
   "id": "e2ebc333",
   "metadata": {},
   "source": [
    "## Usando uma lista de rows com um esquema"
   ]
  },
  {
   "cell_type": "code",
   "execution_count": 8,
   "id": "8625714e",
   "metadata": {},
   "outputs": [],
   "source": [
    "from pyspark.sql import Row"
   ]
  },
  {
   "cell_type": "code",
   "execution_count": 9,
   "id": "94f509f5",
   "metadata": {},
   "outputs": [
    {
     "data": {
      "text/plain": [
       "[Row(movieId=1, title='Toy Story (1995)', genres='Adventure|Animation|Children|Comedy|Fantasy'),\n",
       " Row(movieId=2, title='Jumanji (1995)', genres='Adventure|Children|Fantasy'),\n",
       " Row(movieId=3, title='Grumpier Old Men (1995)', genres='Comedy|Romance'),\n",
       " Row(movieId=4, title='Waiting to Exhale (1995)', genres='Comedy|Drama|Romance'),\n",
       " Row(movieId=5, title='Father of the Bride Part II (1995)', genres='Comedy')]"
      ]
     },
     "execution_count": 9,
     "metadata": {},
     "output_type": "execute_result"
    }
   ],
   "source": [
    "esquema = 'movieId int, title string, genres string'\n",
    "df_teste = spark.createDataFrame([\n",
    "    Row(movieId=1, title='Toy Story (1995)', genres='Adventure|Animation|Children|Comedy|Fantasy'),\n",
    "    Row(movieId=2, title='Jumanji (1995)', genres='Adventure|Children|Fantasy'),\n",
    "    Row(movieId=3, title='Grumpier Old Men (1995)', genres='Comedy|Romance'),\n",
    "    Row(movieId=4, title='Waiting to Exhale (1995)', genres='Comedy|Drama|Romance'),\n",
    "    Row(movieId=5, title='Father of the Bride Part II (1995)', genres='Comedy')\n",
    "], schema=esquema)\n",
    "df_teste.head(5)"
   ]
  },
  {
   "cell_type": "code",
   "execution_count": 10,
   "id": "368026f8",
   "metadata": {},
   "outputs": [
    {
     "name": "stdout",
     "output_type": "stream",
     "text": [
      "root\n",
      " |-- movieId: integer (nullable = true)\n",
      " |-- title: string (nullable = true)\n",
      " |-- genres: string (nullable = true)\n",
      "\n"
     ]
    }
   ],
   "source": [
    "df_teste.printSchema()"
   ]
  },
  {
   "cell_type": "markdown",
   "id": "b09b3bae",
   "metadata": {},
   "source": [
    "# Visualizando os dados"
   ]
  },
  {
   "cell_type": "code",
   "execution_count": 11,
   "id": "37d84467",
   "metadata": {},
   "outputs": [
    {
     "name": "stdout",
     "output_type": "stream",
     "text": [
      "+-------+--------------------+--------------------+\n",
      "|movieId|               title|              genres|\n",
      "+-------+--------------------+--------------------+\n",
      "|      1|    Toy Story (1995)|Adventure|Animati...|\n",
      "|      2|      Jumanji (1995)|Adventure|Childre...|\n",
      "|      3|Grumpier Old Men ...|      Comedy|Romance|\n",
      "|      4|Waiting to Exhale...|Comedy|Drama|Romance|\n",
      "|      5|Father of the Bri...|              Comedy|\n",
      "|      6|         Heat (1995)|Action|Crime|Thri...|\n",
      "|      7|      Sabrina (1995)|      Comedy|Romance|\n",
      "|      8| Tom and Huck (1995)|  Adventure|Children|\n",
      "|      9| Sudden Death (1995)|              Action|\n",
      "|     10|    GoldenEye (1995)|Action|Adventure|...|\n",
      "|     11|American Presiden...|Comedy|Drama|Romance|\n",
      "|     12|Dracula: Dead and...|       Comedy|Horror|\n",
      "|     13|        Balto (1995)|Adventure|Animati...|\n",
      "|     14|        Nixon (1995)|               Drama|\n",
      "|     15|Cutthroat Island ...|Action|Adventure|...|\n",
      "|     16|       Casino (1995)|         Crime|Drama|\n",
      "|     17|Sense and Sensibi...|       Drama|Romance|\n",
      "|     18|   Four Rooms (1995)|              Comedy|\n",
      "|     19|Ace Ventura: When...|              Comedy|\n",
      "|     20|  Money Train (1995)|Action|Comedy|Cri...|\n",
      "+-------+--------------------+--------------------+\n",
      "only showing top 20 rows\n",
      "\n"
     ]
    }
   ],
   "source": [
    "df.show()"
   ]
  },
  {
   "cell_type": "code",
   "execution_count": 12,
   "id": "9cfeff44",
   "metadata": {},
   "outputs": [
    {
     "name": "stdout",
     "output_type": "stream",
     "text": [
      "+-------+----------------+--------------------+\n",
      "|movieId|           title|              genres|\n",
      "+-------+----------------+--------------------+\n",
      "|      1|Toy Story (1995)|Adventure|Animati...|\n",
      "|      2|  Jumanji (1995)|Adventure|Childre...|\n",
      "+-------+----------------+--------------------+\n",
      "only showing top 2 rows\n",
      "\n"
     ]
    }
   ],
   "source": [
    "df.show(2)"
   ]
  },
  {
   "cell_type": "code",
   "execution_count": 13,
   "id": "3a739da7",
   "metadata": {},
   "outputs": [
    {
     "name": "stdout",
     "output_type": "stream",
     "text": [
      "-RECORD 0----------------------------------------------\n",
      " movieId | 1                                           \n",
      " title   | Toy Story (1995)                            \n",
      " genres  | Adventure|Animation|Children|Comedy|Fantasy \n",
      "-RECORD 1----------------------------------------------\n",
      " movieId | 2                                           \n",
      " title   | Jumanji (1995)                              \n",
      " genres  | Adventure|Children|Fantasy                  \n",
      "only showing top 2 rows\n",
      "\n"
     ]
    }
   ],
   "source": [
    "df.show(n=2, truncate=False, vertical=True)"
   ]
  },
  {
   "cell_type": "code",
   "execution_count": 14,
   "id": "4c13e963",
   "metadata": {},
   "outputs": [
    {
     "data": {
      "text/plain": [
       "['movieId', 'title', 'genres']"
      ]
     },
     "execution_count": 14,
     "metadata": {},
     "output_type": "execute_result"
    }
   ],
   "source": [
    "df.columns"
   ]
  },
  {
   "cell_type": "code",
   "execution_count": 15,
   "id": "b1afe336",
   "metadata": {},
   "outputs": [
    {
     "name": "stdout",
     "output_type": "stream",
     "text": [
      "+-------+--------------------+\n",
      "|movieId|              genres|\n",
      "+-------+--------------------+\n",
      "|      1|Adventure|Animati...|\n",
      "|      2|Adventure|Childre...|\n",
      "+-------+--------------------+\n",
      "only showing top 2 rows\n",
      "\n"
     ]
    }
   ],
   "source": [
    "df.select('movieId', 'genres').show(2)"
   ]
  },
  {
   "cell_type": "code",
   "execution_count": 16,
   "id": "cc007375",
   "metadata": {},
   "outputs": [
    {
     "data": {
      "text/plain": [
       "[Row(movieId=1, title='Toy Story (1995)', genres='Adventure|Animation|Children|Comedy|Fantasy')]"
      ]
     },
     "execution_count": 16,
     "metadata": {},
     "output_type": "execute_result"
    }
   ],
   "source": [
    "df.take(1)"
   ]
  },
  {
   "cell_type": "code",
   "execution_count": 17,
   "id": "a4985fe2",
   "metadata": {},
   "outputs": [
    {
     "data": {
      "text/plain": [
       "[Row(movieId=193609, title='Andrew Dice Clay: Dice Rules (1991)', genres='Comedy')]"
      ]
     },
     "execution_count": 17,
     "metadata": {},
     "output_type": "execute_result"
    }
   ],
   "source": [
    "df.tail(1)"
   ]
  },
  {
   "cell_type": "code",
   "execution_count": 18,
   "id": "85a85d66",
   "metadata": {},
   "outputs": [
    {
     "name": "stdout",
     "output_type": "stream",
     "text": [
      "df.collect()\n"
     ]
    }
   ],
   "source": [
    "# comentado pois retorna todos os dados\n",
    "# df.collect()\n",
    "print('df.collect()')"
   ]
  },
  {
   "cell_type": "markdown",
   "id": "84004e5f",
   "metadata": {},
   "source": [
    "# Selecionando e acessando dados"
   ]
  },
  {
   "cell_type": "code",
   "execution_count": 19,
   "id": "47f517f9",
   "metadata": {},
   "outputs": [
    {
     "data": {
      "text/plain": [
       "Column<'movieId'>"
      ]
     },
     "execution_count": 19,
     "metadata": {},
     "output_type": "execute_result"
    }
   ],
   "source": [
    "df.movieId"
   ]
  },
  {
   "cell_type": "code",
   "execution_count": 20,
   "id": "b03248c5",
   "metadata": {
    "scrolled": true
   },
   "outputs": [
    {
     "name": "stdout",
     "output_type": "stream",
     "text": [
      "+-------+------------------+\n",
      "|summary|           movieId|\n",
      "+-------+------------------+\n",
      "|  count|              9742|\n",
      "|   mean|42200.353623485935|\n",
      "| stddev| 52160.49485443831|\n",
      "|    min|                 1|\n",
      "|    max|            193609|\n",
      "+-------+------------------+\n",
      "\n"
     ]
    }
   ],
   "source": [
    "df.select(df.movieId).describe().show()"
   ]
  },
  {
   "cell_type": "code",
   "execution_count": 21,
   "id": "76c41aa0",
   "metadata": {},
   "outputs": [
    {
     "name": "stdout",
     "output_type": "stream",
     "text": [
      "+-------+--------------------+--------------------+----------+\n",
      "|movieId|               title|              genres|title_sub2|\n",
      "+-------+--------------------+--------------------+----------+\n",
      "|      1|    Toy Story (1995)|Adventure|Animati...|        To|\n",
      "|      2|      Jumanji (1995)|Adventure|Childre...|        Ju|\n",
      "|      3|Grumpier Old Men ...|      Comedy|Romance|        Gr|\n",
      "|      4|Waiting to Exhale...|Comedy|Drama|Romance|        Wa|\n",
      "|      5|Father of the Bri...|              Comedy|        Fa|\n",
      "|      6|         Heat (1995)|Action|Crime|Thri...|        He|\n",
      "|      7|      Sabrina (1995)|      Comedy|Romance|        Sa|\n",
      "|      8| Tom and Huck (1995)|  Adventure|Children|        To|\n",
      "|      9| Sudden Death (1995)|              Action|        Su|\n",
      "|     10|    GoldenEye (1995)|Action|Adventure|...|        Go|\n",
      "|     11|American Presiden...|Comedy|Drama|Romance|        Am|\n",
      "|     12|Dracula: Dead and...|       Comedy|Horror|        Dr|\n",
      "|     13|        Balto (1995)|Adventure|Animati...|        Ba|\n",
      "|     14|        Nixon (1995)|               Drama|        Ni|\n",
      "|     15|Cutthroat Island ...|Action|Adventure|...|        Cu|\n",
      "|     16|       Casino (1995)|         Crime|Drama|        Ca|\n",
      "|     17|Sense and Sensibi...|       Drama|Romance|        Se|\n",
      "|     18|   Four Rooms (1995)|              Comedy|        Fo|\n",
      "|     19|Ace Ventura: When...|              Comedy|        Ac|\n",
      "|     20|  Money Train (1995)|Action|Comedy|Cri...|        Mo|\n",
      "+-------+--------------------+--------------------+----------+\n",
      "only showing top 20 rows\n",
      "\n"
     ]
    }
   ],
   "source": [
    "df.withColumn('title_sub2', df.title.substr(1, 2)).show()"
   ]
  },
  {
   "cell_type": "code",
   "execution_count": 22,
   "id": "c29f0320",
   "metadata": {},
   "outputs": [
    {
     "name": "stdout",
     "output_type": "stream",
     "text": [
      "+-------+-----------+--------------------+\n",
      "|movieId|      title|              genres|\n",
      "+-------+-----------+--------------------+\n",
      "|      6|Heat (1995)|Action|Crime|Thri...|\n",
      "+-------+-----------+--------------------+\n",
      "\n"
     ]
    }
   ],
   "source": [
    "df.filter(df.movieId == 6).show()"
   ]
  },
  {
   "cell_type": "markdown",
   "id": "b78975d4",
   "metadata": {},
   "source": [
    "# Lendo/escrevendo dados"
   ]
  },
  {
   "cell_type": "code",
   "execution_count": 23,
   "id": "1cf5933e",
   "metadata": {},
   "outputs": [],
   "source": [
    "df_csv = spark.read.csv(DIRETORIO + 'movies.csv', header=True)\n",
    "df_csv.write.parquet(DIRETORIO + 'movies.parquet')"
   ]
  },
  {
   "cell_type": "code",
   "execution_count": 24,
   "id": "817f8fda",
   "metadata": {},
   "outputs": [],
   "source": [
    "df_parquet = spark.read.parquet(DIRETORIO + 'movies.parquet')\n",
    "df_parquet.write.csv(DIRETORIO + 'movies_teste.csv', header=True)"
   ]
  }
 ],
 "metadata": {
  "kernelspec": {
   "display_name": "Python 3",
   "language": "python",
   "name": "python3"
  },
  "language_info": {
   "codemirror_mode": {
    "name": "ipython",
    "version": 3
   },
   "file_extension": ".py",
   "mimetype": "text/x-python",
   "name": "python",
   "nbconvert_exporter": "python",
   "pygments_lexer": "ipython3",
   "version": "3.8.8"
  }
 },
 "nbformat": 4,
 "nbformat_minor": 5
}
